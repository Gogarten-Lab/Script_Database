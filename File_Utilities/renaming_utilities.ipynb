{
 "cells": [
  {
   "cell_type": "code",
   "execution_count": 1,
   "metadata": {},
   "outputs": [],
   "source": [
    "import pandas as pd\n",
    "import matplotlib.pyplot as plt\n",
    "import seaborn as sns\n",
    "import numpy as np\n",
    "import os\n",
    "import glob\n",
    "import ete3"
    
   ]
  },
  {
   "cell_type": "markdown",
   "metadata": {},
   "source": [
    "# Renaming Utilities\n",
    "These are simple little things that can save you tons of time. Almost all of these things need a dictionary mapping your old names to new names. Easy made in Excel or whatever."
   ]
  },
  {
   "cell_type": "markdown",
   "metadata": {},
   "source": [
    "## Phylogeny Renamer"
   ]
  },
  {
   "cell_type": "markdown",
   "metadata": {},
   "source": [
    "This renames the tip labels of a phylogeny (iteratively). Useful for turning your GCA_#######s to meaningful descriptions. You need a dictionary mapping the old labels to the new labels:\n",
    "example:\n",
    "{\"GCA_2214\": \"strain 1\", \"GCA_1234\": \"strain2\", etc}"
   ]
  },
  {
   "cell_type": "code",
   "execution_count": null,
   "metadata": {},
   "outputs": [],
   "source": [
    "#Input: newick file name in quotes. dictonary in proper format\n",
    "newick = \"\"\n",
    "name_dict = {}\n",
    "output_name = \"\""
   ]
  },
  {
   "cell_type": "code",
   "execution_count": null,
   "metadata": {},
   "outputs": [],
   "source": [
    "phylo = ete3.Tree(newick)\n",
    "taxa = phylo.get_leaf_names()\n",
    "for leaf in phylo.iter_leaves():\n",
    "    leaf.name = name_dict[leaf.name]\n",
    "phylo.write(outfile=output_name)"
   ]
  },
  {
   "cell_type": "markdown",
   "metadata": {},
   "source": [
    "### This will do it for every file in current directory"
   ]
  },
  {
   "cell_type": "code",
   "execution_count": null,
   "metadata": {},
   "outputs": [],
   "source": [
    "for filn in glob.glob(\"*.extension\"): #change this to whatever\n",
    "    phylo = ete3.Tree(filn)\n",
    "    taxa = phylo.get_leaf_names()\n",
    "    for leaf in phylo.iter_leaves():\n",
    "        leaf.name = name_dict[leaf.name]\n",
    "    phylo.write(outfile=filn+\"renamed.tre\")"
   ]
  },
  {
   "cell_type": "markdown",
   "metadata": {},
   "source": [
    "## Fasta Renamer\n",
    "Renames fasta records, whatever is after > in a similar fashion to above. Useful for MLSAs and concatenation if you need the same name for every gene family. Every sequence from the same genome will have the same name, you can differentiate them based on the file name or gene fam name."
   ]
  },
  {
   "cell_type": "code",
   "execution_count": null,
   "metadata": {},
   "outputs": [],
   "source": [
    "with open(input_file_name,'r') as ofh:\n",
    "    for line in ofh:\n",
    "        line = line.strip()\n",
    "        if line.startswith(\">\"): \n",
    "            #where name_dict is the dictionary of names\n",
    "            print(\">\" +name_dict[line[1:]+\".fna\"], file=open(output_file_name,'a'))\n",
    "        else:\n",
    "            print(line, file=open(output_file_name,'a'))"
   ]
  },
  {
   "cell_type": "markdown",
   "metadata": {},
   "source": [
    "for everything in the directory"
   ]
  },
  {
   "cell_type": "code",
   "execution_count": null,
   "metadata": {},
   "outputs": [],
   "source": [
    "for filn in glob.glob(\"*.fasta\"):\n",
    "    with open(filn,'r') as ofh:\n",
    "        for line in ofh:\n",
    "            line = line.strip()\n",
    "            if line.startswith(\">\"): \n",
    "            #where name_dict is the dictionary of names\n",
    "                print(\">\" +name_dict[line[1:]+\".fna\"], file=open(filn + \".re.fasta\",'a'))\n",
    "            else:\n",
    "                print(line, file=open(filn + \".re.fasta\",'a'))"
   ]
  }
 ],
 "metadata": {
  "kernelspec": {
   "display_name": "Python 3",
   "language": "python",
   "name": "python3"
  },
  "language_info": {
   "codemirror_mode": {
    "name": "ipython",
    "version": 3
   },
   "file_extension": ".py",
   "mimetype": "text/x-python",
   "name": "python",
   "nbconvert_exporter": "python",
   "pygments_lexer": "ipython3",
   "version": "3.6.5"
  },
  "toc": {
   "base_numbering": 1,
   "nav_menu": {},
   "number_sections": true,
   "sideBar": true,
   "skip_h1_title": false,
   "title_cell": "Table of Contents",
   "title_sidebar": "Contents",
   "toc_cell": false,
   "toc_position": {},
   "toc_section_display": true,
   "toc_window_display": false
  },
  "varInspector": {
   "cols": {
    "lenName": 16,
    "lenType": 16,
    "lenVar": 40
   },
   "kernels_config": {
    "python": {
     "delete_cmd_postfix": "",
     "delete_cmd_prefix": "del ",
     "library": "var_list.py",
     "varRefreshCmd": "print(var_dic_list())"
    },
    "r": {
     "delete_cmd_postfix": ") ",
     "delete_cmd_prefix": "rm(",
     "library": "var_list.r",
     "varRefreshCmd": "cat(var_dic_list()) "
    }
   },
   "types_to_exclude": [
    "module",
    "function",
    "builtin_function_or_method",
    "instance",
    "_Feature"
   ],
   "window_display": false
  }
 },
 "nbformat": 4,
 "nbformat_minor": 2
}
